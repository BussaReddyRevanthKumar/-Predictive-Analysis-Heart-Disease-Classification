{
 "cells": [
  {
   "cell_type": "code",
   "execution_count": null,
   "id": "122ed8a1-2b8f-4d21-b46c-503d215159ba",
   "metadata": {},
   "outputs": [],
   "source": [
    "# 1. Load Dataset and Explore\n",
    "python\n",
    "Copy\n",
    "Edit\n",
    "import pandas as pd\n",
    "\n",
    "# Load dataset\n",
    "df = pd.read_csv('https://raw.githubusercontent.com/plotly/datasets/master/heart.csv')\n",
    "df.head()"
   ]
  },
  {
   "cell_type": "code",
   "execution_count": null,
   "id": "15e1de5d-114c-47f6-8e96-26936fbc27ff",
   "metadata": {},
   "outputs": [],
   "source": [
    "# 2. Feature Correlation Heatmap\n",
    "python\n",
    "Copy\n",
    "Edit\n",
    "import seaborn as sns\n",
    "import matplotlib.pyplot as plt\n",
    "\n",
    "plt.figure(figsize=(10,6))\n",
    "sns.heatmap(df.corr(), annot=True, cmap='coolwarm')\n",
    "plt.title(\"Feature Correlation Heatmap\")\n",
    "plt.show()"
   ]
  },
  {
   "cell_type": "code",
   "execution_count": null,
   "id": "df1573e3-56fa-482f-b6d4-851f6d842b7d",
   "metadata": {},
   "outputs": [],
   "source": [
    "# 3. Train-Test Split\n",
    "python\n",
    "Copy\n",
    "Edit\n",
    "from sklearn.model_selection import train_test_split\n",
    "\n",
    "X = df.drop(\"target\", axis=1)\n",
    "y = df[\"target\"]\n",
    "\n",
    "X_train, X_test, y_train, y_test = train_test_split(X, y, test_size=0.2, random_state=42)"
   ]
  },
  {
   "cell_type": "code",
   "execution_count": null,
   "id": "a9e78e06-f517-4058-9b32-acaa0c0da53b",
   "metadata": {},
   "outputs": [],
   "source": [
    "# 4. Logistic Regression Model Training and Evaluation\n",
    "python\n",
    "Copy\n",
    "Edit\n",
    "from sklearn.linear_model import LogisticRegression\n",
    "from sklearn.metrics import accuracy_score, classification_report\n",
    "\n",
    "lr = LogisticRegression(max_iter=1000)\n",
    "lr.fit(X_train, y_train)\n",
    "lr_preds = lr.predict(X_test)\n",
    "\n",
    "print(\"Logistic Regression Accuracy:\", accuracy_score(y_test, lr_preds))\n",
    "print(classification_report(y_test, lr_preds))\n"
   ]
  },
  {
   "cell_type": "code",
   "execution_count": null,
   "id": "84313f45-f303-4972-8ea7-05e291fb577f",
   "metadata": {},
   "outputs": [],
   "source": [
    "# 5. Random Forest Classifier Training and Evaluation\n",
    "python\n",
    "Copy\n",
    "Edit\n",
    "from sklearn.ensemble import RandomForestClassifier\n",
    "\n",
    "rf = RandomForestClassifier(random_state=42)\n",
    "rf.fit(X_train, y_train)\n",
    "rf_preds = rf.predict(X_test)\n",
    "\n",
    "print(\"Random Forest Accuracy:\", accuracy_score(y_test, rf_preds))\n",
    "print(classification_report(y_test, rf_preds))"
   ]
  },
  {
   "cell_type": "code",
   "execution_count": null,
   "id": "cfdd6176-eb48-4409-80ff-851b7453ee89",
   "metadata": {},
   "outputs": [],
   "source": [
    "# 6. Feature Importance (Random Forest)\n",
    "python\n",
    "Copy\n",
    "Edit\n",
    "import pandas as pd\n",
    "import matplotlib.pyplot as plt\n",
    "\n",
    "importances = pd.Series(rf.feature_importances_, index=X.columns).sort_values(ascending=False)\n",
    "importances.plot(kind=\"barh\", title=\"Feature Importance (Random Forest)\")\n",
    "plt.show()\n",
    "\n"
   ]
  },
  {
   "cell_type": "code",
   "execution_count": null,
   "id": "ee3c56ea-8b3e-4a1e-aad3-3523ff9ecc25",
   "metadata": {},
   "outputs": [],
   "source": [
    "# 7. Confusion Matrix\n",
    "python\n",
    "Copy\n",
    "Edit\n",
    "from sklearn.metrics import confusion_matrix\n",
    "import seaborn as sns\n",
    "\n",
    "sns.heatmap(confusion_matrix(y_test, rf_preds), annot=True, fmt='d', cmap='Blues')\n",
    "plt.title(\"Confusion Matrix (Random Forest)\")\n",
    "plt.show()"
   ]
  },
  {
   "cell_type": "code",
   "execution_count": null,
   "id": "e807fa12-2360-4765-a69f-e8512fa16713",
   "metadata": {},
   "outputs": [],
   "source": [
    "# 8. ROC-AUC Score\n",
    "python\n",
    "Copy\n",
    "Edit\n",
    "from sklearn.metrics import roc_auc_score\n",
    "\n",
    "roc_score = roc_auc_score(y_test, rf.predict_proba(X_test)[:,1])\n",
    "print(\"Random Forest ROC-AUC Score:\", roc_score)"
   ]
  }
 ],
 "metadata": {
  "kernelspec": {
   "display_name": "Python 3 (ipykernel)",
   "language": "python",
   "name": "python3"
  },
  "language_info": {
   "codemirror_mode": {
    "name": "ipython",
    "version": 3
   },
   "file_extension": ".py",
   "mimetype": "text/x-python",
   "name": "python",
   "nbconvert_exporter": "python",
   "pygments_lexer": "ipython3",
   "version": "3.13.3"
  }
 },
 "nbformat": 4,
 "nbformat_minor": 5
}
